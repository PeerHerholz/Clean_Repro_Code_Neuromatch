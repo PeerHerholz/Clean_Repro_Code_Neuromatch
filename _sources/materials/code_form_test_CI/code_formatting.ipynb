{
 "cells": [
  {
   "cell_type": "markdown",
   "id": "b9b8dabd-0afe-4b49-93dc-1521d3552184",
   "metadata": {
    "slideshow": {
     "slide_type": "slide"
    }
   },
   "source": [
    "# Code formatting, styling and linting\n",
    "\n",
    "Here's one scenario all of us have been in before, most likely countless times: we want to run an anlysis and get a script from a colleague that should exactly what we want. Sounds great, eh? However, upon opening it your joy starts to drastically diminish: the entire script, many hundreds of lines long, is basically unintelligable. There are no comments, a fast number of apparently random variables, huge blocks of code, etc. . Long story short: re-using and/or adapting this script will be a lot of work and maybe not even possible.\n",
    "\n",
    "The same holds true for code you might find online in repositories or even tutorials, as well as the worst case: your own code from a while ago. You wrote this once and now you don't understand a single thing that's going on. How is anyone supposed to understand the content of files like `finalanalysis_final_2.py` or `runthisbefore_monday.py`?"
   ]
  },
  {
   "cell_type": "markdown",
   "id": "a30f67e7-c62b-4dc5-ac0d-b967c06787c6",
   "metadata": {
    "slideshow": {
     "slide_type": "subslide"
    }
   },
   "source": [
    "It's just annoying, frustrating and not `FAIR`. So, isn't there anything one can do about that?"
   ]
  },
  {
   "cell_type": "markdown",
   "id": "0770a13b-4ca0-45d6-9cec-b04833543982",
   "metadata": {
    "slideshow": {
     "slide_type": "subslide"
    }
   },
   "source": [
    "Say no more and join us for a basic introduction into what's called `code hygiene` or `linting`, ie `formatting` and `styling` your `code` to address the above-outlined challenges. \n",
    "\n",
    "However, before we start, here's a little glimpse into how deep these principles are baked into `python`:"
   ]
  },
  {
   "cell_type": "code",
   "execution_count": 1,
   "id": "6fe91d03-10a8-4a14-8b92-d4f21534e8f8",
   "metadata": {
    "slideshow": {
     "slide_type": "subslide"
    }
   },
   "outputs": [
    {
     "name": "stdout",
     "output_type": "stream",
     "text": [
      "The Zen of Python, by Tim Peters\n",
      "\n",
      "Beautiful is better than ugly.\n",
      "Explicit is better than implicit.\n",
      "Simple is better than complex.\n",
      "Complex is better than complicated.\n",
      "Flat is better than nested.\n",
      "Sparse is better than dense.\n",
      "Readability counts.\n",
      "Special cases aren't special enough to break the rules.\n",
      "Although practicality beats purity.\n",
      "Errors should never pass silently.\n",
      "Unless explicitly silenced.\n",
      "In the face of ambiguity, refuse the temptation to guess.\n",
      "There should be one-- and preferably only one --obvious way to do it.\n",
      "Although that way may not be obvious at first unless you're Dutch.\n",
      "Now is better than never.\n",
      "Although never is often better than *right* now.\n",
      "If the implementation is hard to explain, it's a bad idea.\n",
      "If the implementation is easy to explain, it may be a good idea.\n",
      "Namespaces are one honking great idea -- let's do more of those!\n"
     ]
    }
   ],
   "source": [
    "import this"
   ]
  },
  {
   "cell_type": "markdown",
   "id": "571f6196-3bc5-48c4-8a66-ec62109e2f0c",
   "metadata": {
    "slideshow": {
     "slide_type": "subslide"
    }
   },
   "source": [
    "Here's what we will explore in this session:\n",
    "\n",
    "- [Guidelines for Code Styling](code-styling)  \n",
    "- [Writing Human Readable Code](human-readable-code)  \n",
    "- [Code Styling Tools](code-styling-tools)  "
   ]
  },
  {
   "cell_type": "markdown",
   "id": "f12ee2f6-ebfd-4d6c-8404-dadc14c26c17",
   "metadata": {
    "slideshow": {
     "slide_type": "fragment"
    }
   },
   "source": [
    "and we're going to start with a short practice!"
   ]
  },
  {
   "cell_type": "markdown",
   "id": "3cceab00-4928-40f4-97b4-bae7c6a3350f",
   "metadata": {
    "slideshow": {
     "slide_type": "subslide"
    }
   },
   "source": [
    "```{admonition} Task for y'all!\n",
    "\n",
    "Within the `materials` you downloaded, ie `materials/CI_CD`, you will find a `python script` called `emd_clust_cont_loss_sim.py` (you can also directly download it [here](https://github.com/PeerHerholz/Clean_Repro_Code_Neuromatch/blob/main/workshop/materials/code_form_test_CI/emd_clust_cont_loss_sim.py)). Open it in `VScode`, go through it and write down any problems you notice and/or might run into. Please make sure to save your notes!\n",
    "\n",
    "You have 10 min.\n",
    "\n",
    "After the 10 min are over, please head over to this [slido poll](https://app.sli.do/event/3Wi75hjeQYh8UY5Z7oBSWi) and add a few of your notes.\n",
    "\n",
    "<iframe src=\"https://wall.sli.do/event/3Wi75hjeQYh8UY5Z7oBSWi?section=cf5690c7-b847-44fb-910e-f301992d0d1c\" width=\"650\" height=\"400\"></iframe>\n",
    "\n",
    "```"
   ]
  },
  {
   "cell_type": "markdown",
   "id": "c395aa66-35ef-4046-a529-94d9b98fd9d5",
   "metadata": {
    "slideshow": {
     "slide_type": "slide"
    }
   },
   "source": [
    "(code-styling)=\n",
    "## Guidelines for Code Styling\n",
    "\n",
    "Style guidelines differ between organisations, languages, and over time. Even, the `Python style guide` [Python Enhancement Proposal 8 (PEP 8)](https://www.python.org/dev/peps/pep-0008/) has had numerous revisions since it was released in 2001. You must choose a framework that is best for your purposes: be they for your benefit or the benefit of others. It is also important to remain consistent (and not consistently inconsistent)!\n",
    "\n",
    "Style guidelines include advice for `file naming`, `variable naming`, `use of comments`, and `whitespace` and `bracketing`.\n",
    "\n",
    "In the following, we will explore some basics of the [Python Enhancement Proposal 8 (PEP 8)](https://www.python.org/dev/peps/pep-0008/). You can browse the full set of `guidelines` on the `PEP8 website`:"
   ]
  },
  {
   "cell_type": "markdown",
   "id": "35fb149d-634b-481b-a4ef-55fabb27e1ca",
   "metadata": {},
   "source": [
    "<iframe src=\"https://peps.python.org/pep-0008/\" width=\"650\" height=\"500\"></iframe>"
   ]
  },
  {
   "cell_type": "markdown",
   "id": "cd8f7b49-697a-4c0e-b8be-74f8235d1587",
   "metadata": {
    "slideshow": {
     "slide_type": "subslide"
    }
   },
   "source": [
    "### File Naming\n",
    "\n",
    "The `Centre for Open Science` has some useful suggestions for the `naming` of files, particularly ensuring that they are **readable for both humans and machines**. This includes avoiding the use of `wildcard characters` (`@£$%`) and using `underscores` (“`_`”) to delimit information, and `dashes` (“`-`”) to conjunct information or spaces. They also suggest `dating` or `numbering files` and avoiding words like `FINAL` (or `FINAL-FINAL`). Does any of those things sound familiar? \n",
    "\n",
    "The dating suggestion is the long format `YYYY-MM-DD`, followed by the `name of the file`, and the `version number`. This results in `automatic`, `chronological order`. For example, have a quick look at the difference between these files:\n",
    "\n",
    "```python\n",
    "Final analysis @ home.py\n",
    "\n",
    "2024-02-12_myproject_analysis-descriptive-statistics.py\n",
    "```"
   ]
  },
  {
   "cell_type": "markdown",
   "id": "847f0b53-3bac-4135-aa7e-14dd3fceb6fb",
   "metadata": {
    "slideshow": {
     "slide_type": "subslide"
    }
   },
   "source": [
    "One clearly has more information and `FAIR`-ness than the other, with the \"workload\" of naming the file being actually the same.  \n",
    "\n",
    "And here's another fun fact to motivate you: `spaces` in `file names` can create hugh problems regarding finding and accessing them (e.g. you wouldn't be able to work with the first file in `bash` as there `spaces` differentiate `arguments`)."
   ]
  },
  {
   "cell_type": "markdown",
   "id": "440e4057-a57d-4b44-91bb-bae20e253bb7",
   "metadata": {
    "slideshow": {
     "slide_type": "fragment"
    }
   },
   "source": [
    "A note on version control: while it definitely won't hurt to add some form of `versioning` to the `file name`, it is generally recommended to use a dedicated `version control system` like [git](https://git-scm.com/) and ideally a form of `continuous integration`, which we will explore a bit in the [last session of this workshop](https://peerherholz.github.io/Clean_Repro_Code_Neuromatch/materials/code_form_test_CI/CI_CD.html). "
   ]
  },
  {
   "cell_type": "markdown",
   "id": "52d6c276-8120-4f1d-ae7a-02cdc4122c2c",
   "metadata": {
    "slideshow": {
     "slide_type": "subslide"
    }
   },
   "source": [
    "### Variable Naming\n",
    "\n",
    "Remember your math classes? There `variables` are often unimaginatively named “x”, “y”, and “z”. This brevity is probably because teachers (understandably) do not want to repeatedly write long `variable names` on the board. In `coding`, however, you have the freedom to name your `variables` anything you like. This can be useful for representing the flow of your `script`.\n",
    "\n",
    "For example, instead of using\n",
    "\n",
    "```python\n",
    "x = pd.read_csv(\"my_df.csv\")\n",
    "y = x[[\"my_column_1\", \"my_column_2\"]]\n",
    "```\n",
    "\n",
    "to indicate a `loaded DataFrame`, ie `x`, and a `subset` of that `DataFrame`, ie `y`, you could (and should) use:\n",
    "\n",
    "```python\n",
    "df_loaded = pd.read_csv(\"my_df.csv\")\n",
    "df_loaded_sub = x[[\"my_column_1\", \"my_column_2\"]]\n",
    "```\n",
    "\n",
    "to have much more intelligible `variable names` that also indicate the processing flow. "
   ]
  },
  {
   "cell_type": "markdown",
   "id": "6010e239-0d02-42bc-9dd6-b0b836f305f0",
   "metadata": {
    "slideshow": {
     "slide_type": "subslide"
    }
   },
   "source": [
    "Furthermore, while you could name `variables` whatever you want, there are also a few exceptions and guidelines, which we will explore next. "
   ]
  },
  {
   "cell_type": "markdown",
   "id": "b79a83b6-70f5-4554-952e-c51ef5b27012",
   "metadata": {
    "slideshow": {
     "slide_type": "slide"
    }
   },
   "source": [
    "#### Naming exceptions\n",
    "\n",
    "`Variable names` in `Python` can contain **alphanumerical characters** `a-z`, `A-Z`, `0-9` and some **special characters** such as `_`. Normal `variable names` **must** start with a `letter`.\n",
    "\n",
    "By convention, `variable names` start with a `lower-case letter`, and `Class names` start with a `capital letter`.\n",
    "\n",
    "Thus, `variable names` like\n",
    "\n",
    "```python\n",
    "1DF\n",
    "DF clean\n",
    "```\n",
    "\n",
    "are not possible and instead should be\n",
    "\n",
    "```python\n",
    "df_1\n",
    "df_clean\n",
    "```"
   ]
  },
  {
   "cell_type": "markdown",
   "id": "17aec125-d0cd-4f6f-9ef4-3b48068c5073",
   "metadata": {
    "slideshow": {
     "slide_type": "subslide"
    }
   },
   "source": [
    "In addition, there are a number of `python keywords` that **cannot** be used as `variable names`. These keywords are:\n",
    "\n",
    "```python\n",
    "and, as, assert, break, class, continue, def, del, elif, else, except, exec, finally, for, from, global, if, import, in, is, lambda, not, or, pass, print, raise, return, try, while, with, yield\n",
    "```"
   ]
  },
  {
   "cell_type": "markdown",
   "id": "cec6c1df-aa4d-4761-a842-b7b1d1751335",
   "metadata": {
    "slideshow": {
     "slide_type": "subslide"
    }
   },
   "source": [
    "#### Naming conventions\n",
    "\n",
    "For clarity and readability, choosing a set of `naming conventions` for your `variables` is useful. There is a large variety, and some people can be quite vocal about which one is ‘correct’ (pick one that is right for you!). These include:\n",
    "\n",
    "- `CamelCase`\n",
    "\n",
    "- `lowerCamelCase`\n",
    "\n",
    "- `Underscore_Methods`\n",
    "\n",
    "- `Mixed_Case_with_Underscores`\n",
    "\n",
    "- `lowercase`"
   ]
  },
  {
   "cell_type": "markdown",
   "id": "8a233429-6b28-47be-9b58-ac0254440c21",
   "metadata": {
    "slideshow": {
     "slide_type": "subslide"
    }
   },
   "source": [
    "However, it is important to choose one style and stick to it. For example,\n",
    "\n",
    "```python\n",
    "ThisIs Because_SwitchingbetweenDifferentformats is.difficult to read.\n",
    "```\n",
    "\n",
    "is rather suboptimal and hard to parse, while\n",
    "\n",
    "```python\n",
    "Where_as if_you stick_to one_style, your_code will_be easier_to_follow!\n",
    "WhereAs IfYou StickTo OneStyle, YourCodeWillBeEasierToFollow!\n",
    "```\n",
    "\n",
    "is much more intelligible and easier to follow."
   ]
  },
  {
   "cell_type": "markdown",
   "id": "32d360cc-96e4-4e0c-a55f-2e047984be0f",
   "metadata": {
    "slideshow": {
     "slide_type": "slide"
    }
   },
   "source": [
    "(human-readable-code)=\n",
    "## Writing Human Readable Code\n",
    "\n",
    "Writing **clear, well commented, readable and re-usable** `code` benefits not only you but the community (or audience) that you are developing it for. This may be your lab, external collaborators, stakeholders, or you might be writing open source software for global distribution! Whatever scale you work at, readability counts!\n",
    "\n",
    "Here are a few aspects to consider when making your code easy to read by others."
   ]
  },
  {
   "cell_type": "markdown",
   "id": "a9a8c6f5-2efe-4f45-9e33-278fbaf13e5f",
   "metadata": {
    "slideshow": {
     "slide_type": "subslide"
    }
   },
   "source": [
    "### Line Length\n",
    "\n",
    "There is some agreement on the length of the `coding lines`. `PEP8` suggests a maximum of `79 characters` per line. This means that the lines can easily fit on a `screen`, and multiple `coding windows` can be opened. It is argued that if your line is any longer than this, then your function is too complex and should be separated! For example:"
   ]
  },
  {
   "cell_type": "code",
   "execution_count": null,
   "id": "dfebdc1d-ae4c-44b6-996c-baa1ef7714bc",
   "metadata": {
    "slideshow": {
     "slide_type": "subslide"
    }
   },
   "outputs": [],
   "source": [
    "columns_select = ['participant_id', 'age', 'group', 'left-handed', 'session', 'TargetImage', 'rating', 'feedback']"
   ]
  },
  {
   "cell_type": "markdown",
   "id": "66c7dca5-6266-4f99-b6ce-01c6dec7a367",
   "metadata": {
    "slideshow": {
     "slide_type": "fragment"
    }
   },
   "source": [
    "would be too long and should be changed to:"
   ]
  },
  {
   "cell_type": "code",
   "execution_count": null,
   "id": "da573e42-7758-4a12-8f06-41eff0d642ec",
   "metadata": {
    "slideshow": {
     "slide_type": "fragment"
    }
   },
   "outputs": [],
   "source": [
    "columns_select = ['participant_id', 'age', 'group', 'left-handed',  'session', \n",
    "                  'TargetImage', 'rating', 'feedback']"
   ]
  },
  {
   "cell_type": "markdown",
   "id": "cfecb1e0-9c46-43b7-a430-3f958c1ce2b1",
   "metadata": {
    "slideshow": {
     "slide_type": "subslide"
    }
   },
   "source": [
    "### Commenting\n",
    "\n",
    "`Comments` have been described as “Love letters to your future self” by Jon Peirce, creator of [PsychoPy](https://workshops.psychopy.org/index.html). `Comments` can be `single/multi-line`, `blocked` or `inline`. The `PEP8 guidelines` have firm suggestions that `block comments` should be `full sentences`, have `two spaces` following a period, and follow a dated style guide (Strunk and White). Fortunately the `Elements of Style` no longer ‘requires’ an unfair emphasis on masculine pronouns. Whereas `inline comments` should be used sparingly, keeping `clear` and `concise comments` not only allows you to keep track of the decisions you have made, what particular `functions` do, and what `variables` are used, it also allows other people to see your thought processes. The `syntax` for `comments` varies with programming languages.\n",
    "In `python`, a hashtag `#` is used for `single/multi-line` and `inline` and `'''` for `blocked` comments. \n",
    "\n",
    "| Comment Type      | Syntax Example                         | Use Case                             |\n",
    "|-------------------|---------------------------------------|--------------------------------------|\n",
    "| Single-Line       | `# This is a comment`                 | Brief explanations                   |\n",
    "| Multi-Line        | `# Line 1\\n # Line 2`                 | Longer comments, block explanations  |\n",
    "| Triple-Quote      | `\"\"\"Multi-line comment\"\"\"`            | Block explanations                   |\n",
    "| Docstring         | `def func(): \"\"\"Docstring\"\"\"`         | Documentation for classes/functions  |\n",
    "| Inline            | `x = 10  # Inline comment`            | Clarifying specific code lines       |\n",
    "| Commenting Code   | `# code to disable`                   | Temporarily disable code lines       |\n",
    "\n",
    "\n",
    "Just compare these two examples, at first without `comments`:"
   ]
  },
  {
   "cell_type": "markdown",
   "id": "e017d985-0223-4b0a-b889-f1af3075cc30",
   "metadata": {
    "slideshow": {
     "slide_type": "subslide"
    }
   },
   "source": [
    "```python\n",
    "dpgmm = BayesianGaussianMixture(n_components=10, covariance_type='full', \n",
    "        weight_concentration_prior_type=\"dirichlet_process\", weight_concentration_prior=0.1, \n",
    "        random_state=42)\n",
    "dpgmm.fit(representations_during_training[3])\n",
    "dump(dpgmm, './outputs/models/dpgmm.joblib')\n",
    "```"
   ]
  },
  {
   "cell_type": "markdown",
   "id": "616e5e47-1b08-4a54-9404-94cf6d4e3e1d",
   "metadata": {
    "slideshow": {
     "slide_type": "fragment"
    }
   },
   "source": [
    "and now with `comments`:"
   ]
  },
  {
   "cell_type": "markdown",
   "id": "91ff42e8-b2aa-4362-a280-29a3d2280903",
   "metadata": {
    "slideshow": {
     "slide_type": "subslide"
    }
   },
   "source": [
    "```python\n",
    "# The subsequent block define a Bayesian Gaussian Mixture clustering,\n",
    "# fits it to the test data and then saves the fitted estimator.\n",
    "dpgmm = BayesianGaussianMixture(n_components=10, covariance_type='full', \n",
    "        weight_concentration_prior_type=\"dirichlet_process\", weight_concentration_prior=0.1, \n",
    "        random_state=42) # define Bayesian Gaussian Mixture clustering\n",
    "dpgmm.fit(representations_during_training[3]) # fit it to the test data\n",
    "dump(dpgmm, './outputs/models/dpgmm.joblib') # save the fitted estimator\n",
    "```"
   ]
  },
  {
   "cell_type": "markdown",
   "id": "267c588f-c0d0-48b2-b805-09a0f66ac2c5",
   "metadata": {
    "slideshow": {
     "slide_type": "fragment"
    }
   },
   "source": [
    "Immediately more clear, eh? While it might seem like extra workload, adding a few descriptive `comments` to describe what's going on (and why), will make all the difference later on."
   ]
  },
  {
   "cell_type": "markdown",
   "id": "7662b04a-bde7-4375-8240-d57e53a7400d",
   "metadata": {
    "slideshow": {
     "slide_type": "subslide"
    }
   },
   "source": [
    "### Indentation\n",
    "\n",
    "`Python` uses `whitespaces` to define `code blocks`. Using `whitespaces` at the beginning of a `line` is the `indentation`. This means that a `codeblock` that is `indented` with the same number of leading `whitespaces` or `tabs` should be run together. In other words: the `indentation` is part of the `syntax` in `python` and one of the major distinctions regarding other programming languages like, e.g. `Matlab`.\n",
    "\n",
    "Usually in `python` we use four `whitespaces` for `indentation` of `codeblocks`.\n",
    "\n",
    "Let’s see what that means:"
   ]
  },
  {
   "cell_type": "code",
   "execution_count": 2,
   "id": "ddbf9fac-0aa2-4a91-853f-ccd4a687ac69",
   "metadata": {
    "slideshow": {
     "slide_type": "subslide"
    }
   },
   "outputs": [],
   "source": [
    "i_hope_this_is_over_soon = \"yes\"\n",
    "n_sections_left = 2"
   ]
  },
  {
   "cell_type": "markdown",
   "id": "92122592-3509-49d7-a09c-29b729cc9faf",
   "metadata": {
    "slideshow": {
     "slide_type": "subslide"
    }
   },
   "source": [
    "Each such set of statements is called a `block`, meaning that the `lines`/`variable assignments` will be run together.  \n",
    "What happens when we introduce a “wrong” indentation?"
   ]
  },
  {
   "cell_type": "code",
   "execution_count": 3,
   "id": "f3ad9b84-38ab-4ec3-9fbd-049a591d6da7",
   "metadata": {
    "slideshow": {
     "slide_type": "fragment"
    }
   },
   "outputs": [
    {
     "ename": "IndentationError",
     "evalue": "unexpected indent (2963025091.py, line 2)",
     "output_type": "error",
     "traceback": [
      "\u001b[0;36m  Cell \u001b[0;32mIn[3], line 2\u001b[0;36m\u001b[0m\n\u001b[0;31m    n_sections_left = 2\u001b[0m\n\u001b[0m    ^\u001b[0m\n\u001b[0;31mIndentationError\u001b[0m\u001b[0;31m:\u001b[0m unexpected indent\n"
     ]
    }
   ],
   "source": [
    "i_hope_this_is_over_soon = \"yes\"\n",
    "    n_sections_left = 2"
   ]
  },
  {
   "cell_type": "markdown",
   "id": "ca09dd26-58c3-46ca-a6d0-2685c6f6e71c",
   "metadata": {
    "slideshow": {
     "slide_type": "subslide"
    }
   },
   "source": [
    "NB: you have most likely seen this already when applying any form of `loops` within which the parts inside the `loop`(s) have to have the right `indentation` as you otherwise will run into erros. The same holds true for splitting `code` across `lines`."
   ]
  },
  {
   "cell_type": "markdown",
   "id": "505cb5bb-438b-4707-9391-4aa15d1dda4b",
   "metadata": {
    "slideshow": {
     "slide_type": "slide"
    }
   },
   "source": [
    "(code-styling-tools)=\n",
    "## Code Styling Tools\n",
    "\n",
    "As mentioned earlier, there are some automatic tools that you can use to `lint` your `code` to existing guidelines. These range from plugins for `IDE`s packages that `\"spell-check\"` your style, and `scripts` that automatically `lint` for you.\n",
    "\n",
    "You can use one or the other or both, that's up to you. Just make sure you use at least one. \n",
    "However, we definitely recommend giving the `\"spell-check\"` approach a try, as it teaches you a lot of `code formatting` and `styling` and thus helps you to incorporate these guidelines into your everyday `coding`."
   ]
  },
  {
   "cell_type": "markdown",
   "id": "6864f81e-71c6-4be5-bc7b-1b016a1d5b61",
   "metadata": {
    "slideshow": {
     "slide_type": "subslide"
    }
   },
   "source": [
    "#### Automatic formatting tools\n",
    "\n",
    "There are a few common `automatic formatting tools` for `python`. Most likely, you will see:\n",
    "\n",
    "- [Black](https://black.readthedocs.io/en/stable/)\n",
    "- [Autopep8](https://pypi.org/project/autopep8/)\n",
    "- [Flake8](https://flake8.pycqa.org/en/latest/index.html)"
   ]
  },
  {
   "cell_type": "markdown",
   "id": "da22b76f-0f00-4381-980d-9926cb1c7ebe",
   "metadata": {
    "slideshow": {
     "slide_type": "subslide"
    }
   },
   "source": [
    "These tools will automatically change your `code` to adhere to certain `guidelines`, like `spaces around operators` and removing unnecessary `whitespace`. It is also consistent, so that the `code` that you and your collaborators work on, will look the same once formatted it. It does not change what the `code` does. This can reduce the time spent making the above changes to the `code`."
   ]
  },
  {
   "cell_type": "markdown",
   "id": "55d7d17c-9c3b-4989-973f-1c43b88fb331",
   "metadata": {
    "slideshow": {
     "slide_type": "subslide"
    }
   },
   "source": [
    "#### Spell-checks in IDEs\n",
    "\n",
    "As mentioned before, there's also the option to have \"`spell-checks`\" in `IDE`s, which basically indicate `guideline violations` like a writing tool would indicate typos. The exact way how and what they mark as a `guideline violation` depends on the \"`spell-check`\" option of you choice."
   ]
  },
  {
   "cell_type": "markdown",
   "id": "c282ee03-f48a-464a-bc01-9ec4aab11c45",
   "metadata": {
    "slideshow": {
     "slide_type": "subslide"
    }
   },
   "source": [
    "Usually, these \"`spell-check`\"s are implemented through `IDE` integrations and/or add-ons of the above mentioned formatting tools (and others), e.g. `Black`, `Autopep8` and `Flake8`. As the tools themself, you can set different options and change their configuration concerning what should be considered a `guideline violation` and thus indicated respectively."
   ]
  },
  {
   "cell_type": "markdown",
   "id": "a40a5650-8c93-4d8f-8c62-5f32cc2495e9",
   "metadata": {
    "slideshow": {
     "slide_type": "subslide"
    }
   },
   "source": [
    "In order to add them to your `IDE`, just search for the respective integration and/or add-on. `VScode` is of course no exception to that and supports the mentioned tools and others. Just open the `Extensions` tab, enter the search term and then click `install`.\n",
    "\n",
    "<img align=\"center\" src=\"https://raw.githubusercontent.com/PeerHerholz/Clean_Repro_Code_Neuromatch/refs/heads/main/workshop/materials/static/CI_CD/CI_CD_spell_check_integration.png\" alt=\"logo\" title=\"jupyter\" width=\"900\" height=\"400\" /> "
   ]
  },
  {
   "cell_type": "markdown",
   "id": "2e2b2808-7441-47e6-8fee-83d9db53a41c",
   "metadata": {
    "slideshow": {
     "slide_type": "subslide"
    }
   },
   "source": [
    "Here's an example of how the `Flake8` extension in `VScode` would highlight `guideline violations` in our `emd_clust_cont_loss_sim.py` script from the beginning.\n",
    "\n",
    "<img align=\"center\" src=\"https://raw.githubusercontent.com/PeerHerholz/Clean_Repro_Code_Neuromatch/refs/heads/main/workshop/materials/static/CI_CD/CI_CD_spell_check.png\" alt=\"logo\" title=\"jupyter\" width=\"900\" height=\"400\" /> "
   ]
  },
  {
   "cell_type": "markdown",
   "id": "1d358780-b7e1-4eb2-9c3f-b66f0f0b35dd",
   "metadata": {
    "slideshow": {
     "slide_type": "slide"
    }
   },
   "source": [
    "## Summary and task(s)\n",
    "\n",
    "Again, there's much more to linting than what we have discussed here. Just have a look at them and utilize one of the mentioned tools and/or `IDE` integrations to get used to it and you will automatically adapt your `code` writing defaults in no time!\n",
    "\n",
    "However, to give you a first idea of how this would work and combine different aspects of what we have discussed so far, we would like to present you with a set of practice tasks."
   ]
  },
  {
   "cell_type": "markdown",
   "id": "1b26107e-018d-4783-b2c8-bcbe57c36ec0",
   "metadata": {
    "slideshow": {
     "slide_type": "subslide"
    }
   },
   "source": [
    "```{admonition} Task for y'all!\n",
    "\n",
    "Remember the `script` you checked at the beginning? You already went through it once, but now it's time to check things again based on the things we have briefly explored. Just imaging that a colleague gave this script to you or you wrote it a year ago and now you want to bring it up to `code` (get it?). Please note that you should of course adhere and integrate the `guidelines` from `line 1` when you start `coding`. However, as our example is quite long and we don't have too much time, please limit your clean code endeavors to the first 100 lines.\n",
    "\n",
    "1. `Version control 1`: Create a new `GitHub repository` called `clean_reproducible_code_nm_example` and add the initial version of the `emd_clust_cont_loss_sim.py` script to it.\n",
    "\n",
    "2. `Commenting`: Please add `comments` to all parts of the `code`, `blocks` and `in-line`\n",
    "\n",
    "3. `Guidelines`: Please adapt the `code` to adhere to `PEP8` `guidelines` via\n",
    "    \n",
    "    3.1 Use a `VScode` extension to find and fix `guideline` violations  \n",
    "    3.2 Use an automatic formatting tool to check if everything is fixed\n",
    "\n",
    "4. `Version control 2`: Please `commit` the changes you have made and `push` them to your `GitHub` repository via a `pull request`\n",
    "\n",
    "5. `Code review`: Please assign one of the other participants as a `code reviewer` to your `pull request` and conduct the review for your assigned `code review`.\n",
    "\n",
    "You have 40 min.\n",
    "```"
   ]
  },
  {
   "cell_type": "markdown",
   "id": "e2b5b15e",
   "metadata": {},
   "source": [
    "We included solutions to the task below but please try it yourself first."
   ]
  },
  {
   "cell_type": "markdown",
   "id": "53089c80",
   "metadata": {},
   "source": [
    "```{admonition} Example solutions\n",
    ":class: tip, dropdown\n",
    "\n",
    "Here's how you could implement the above outlined tasks. However, there are of course many different solutions to some of the tasks and we just provided some examples.\n",
    "\n",
    "1. `Version control 1`:\n",
    "\n",
    "    Go to `GitHub` and click `New Repository` on the left. Assign it a `name`(as outlined), add a `README` and choose a `license`.\n",
    "\n",
    "    <img align=\"center\" src=\"https://raw.githubusercontent.com/PeerHerholz/Clean_Repro_Code_Neuromatch/refs/heads/main/workshop/materials/static/CI_CD/create_new_repo.png\" alt=\"logo\" title=\"jupyter\" width=\"400\" height=\"900\" /> \n",
    "\n",
    "    If everything worked out, you should see your new repo.\n",
    "\n",
    "    <img align=\"center\" src=\"https://raw.githubusercontent.com/PeerHerholz/Clean_Repro_Code_Neuromatch/refs/heads/main/workshop/materials/static/CI_CD/create_new_repo_done.png\" alt=\"logo\" title=\"jupyter\" width=\"900\" height=\"400\" /> \n",
    "\n",
    "    Clone the repository to your local machine via (don't forget to exchange `your_user_name` to your respective `GitHub username`) and `cd` into it:\n",
    "\n",
    "    ```bash\n",
    "    git clone https://github.com/your_user_name/clean_reproducible_code_nm_example\n",
    "    cd clean_reproducible_code_nm_example\n",
    "    ```\n",
    "\n",
    "    Copy/move the original `emd_clust_cont_loss_sim.py` script to the newly created local `repository` (don't forget to exchange `/path/to/script` to the path where you stored the `emd_clust_cont_loss_sim.py` script on your machine):\n",
    "\n",
    "    ```bash\n",
    "    mv /path/to/script .\n",
    "    ```\n",
    "\n",
    "    `Commit` the changes to your `repository` via:\n",
    "\n",
    "    ```bash\n",
    "    git add emd_clust_cont_loss_sim.py\n",
    "    git commit -m \"add initial version of script\"\n",
    "    ```\n",
    "\n",
    "    and then `push` the changes to your `GitHub repository`:\n",
    "\n",
    "    ```bash\n",
    "    git push\n",
    "    ```\n",
    "\n",
    "    If everything worked out, you should now see the script in your `GitHub repository`.\n",
    "\n",
    "    <img align=\"center\" src=\"https://raw.githubusercontent.com/PeerHerholz/Clean_Repro_Code_Neuromatch/refs/heads/main/workshop/materials/static/CI_CD/add_file_GitHub_repo.png\" alt=\"logo\" title=\"jupyter\" width=\"900\" height=\"400\" />     \n",
    "\n",
    "\n",
    "2. `Commenting`: \n",
    "\n",
    "    Apply the aspects we briefly talked about in this session.\n",
    "\n",
    "    <img align=\"center\" src=\"https://raw.githubusercontent.com/PeerHerholz/Clean_Repro_Code_Neuromatch/refs/heads/main/workshop/materials/static/CI_CD/commenting_example.png\" alt=\"logo\" title=\"jupyter\" width=\"900\" height=\"400\" />     \n",
    "     \n",
    "\n",
    "3. `Guidelines`: \n",
    "    \n",
    "    3.1 Install the `Flake8` extension and go through the code searching for marked problems\n",
    "        and address them.\n",
    "\n",
    "    <img align=\"center\" src=\"https://raw.githubusercontent.com/PeerHerholz/Clean_Repro_Code_Neuromatch/refs/heads/main/workshop/materials/static/CI_CD/flake8_extension_example.png\" alt=\"logo\" title=\"jupyter\" width=\"900\" height=\"400\" />     \n",
    "\n",
    "    3.2 Run `autopep8` and `flake8` to fix and check the code.\n",
    "\n",
    "    Using `autopep8` you can automatically address some formatting problems automatically:\n",
    "\n",
    "    ```bash\n",
    "    autopep8 /path/to/script --in-place\n",
    "    ```\n",
    "\n",
    "    After that, you can use `flake8` to automatically check for all still existing errors:\n",
    "\n",
    "    ```bash\n",
    "    flake8 /path/to/script\n",
    "    ```\n",
    "\n",
    "    Most likely, you will still get a lot of errors, especially if you only went through the first\n",
    "    100 lines as suggested. However, that's no problem for now and we will address this in a later\n",
    "    session.\n",
    "\n",
    "    <img align=\"center\" src=\"https://raw.githubusercontent.com/PeerHerholz/Clean_Repro_Code_Neuromatch/refs/heads/main/workshop/materials/static/CI_CD/flake8_extension_example_fixed.png\" alt=\"logo\" title=\"jupyter\" width=\"900\" height=\"400\" />    \n",
    "\n",
    "3. `Verson control 2`: Please `commit` the changes you have made and `push` them to your `GitHub repository` via\n",
    "\n",
    "    ```bash\n",
    "    git commit -m \"apply code formatting\"\n",
    "    git push\n",
    "    ```\n",
    "\n",
    "    If everything worked out, you should see the updated file in your `GitHub repository`. \n",
    "\n",
    "    <img align=\"center\" src=\"https://raw.githubusercontent.com/PeerHerholz/Clean_Repro_Code_Neuromatch/refs/heads/main/workshop/materials/static/CI_CD/update_file_GitHub_repo.png\" alt=\"logo\" title=\"jupyter\" width=\"900\" height=\"400\" />  \n",
    "\n",
    "    Additionally, due to `version control`, you can exactly check out what changed.\n",
    "\n",
    "    <img align=\"center\" src=\"https://raw.githubusercontent.com/PeerHerholz/Clean_Repro_Code_Neuromatch/refs/heads/main/workshop/materials/static/CI_CD/update_file_GitHub_repo_detail.png\" alt=\"logo\" title=\"jupyter\" width=\"900\" height=\"400\" />  \n",
    "\n",
    "Again, some of these tasks could be addressed in a different manner. The here provided solutions are just examples.\n",
    "```"
   ]
  }
 ],
 "metadata": {
  "celltoolbar": "Slideshow",
  "kernelspec": {
   "display_name": "nowaschool",
   "language": "python",
   "name": "nowaschool"
  },
  "language_info": {
   "codemirror_mode": {
    "name": "ipython",
    "version": 3
   },
   "file_extension": ".py",
   "mimetype": "text/x-python",
   "name": "python",
   "nbconvert_exporter": "python",
   "pygments_lexer": "ipython3",
   "version": "3.10.6"
  }
 },
 "nbformat": 4,
 "nbformat_minor": 5
}
