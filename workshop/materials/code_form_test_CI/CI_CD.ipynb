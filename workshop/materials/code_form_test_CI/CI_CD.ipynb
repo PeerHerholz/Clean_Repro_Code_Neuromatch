{
 "cells": [
  {
   "cell_type": "markdown",
   "metadata": {},
   "source": [
    "# Continuous Integration"
   ]
  },
  {
   "cell_type": "markdown",
   "metadata": {},
   "source": [
    "In the prior sessions, we explored and tried quite a few things, from `formatting` and `linting` to running various `tests`. As mentioned before, you should adhere to this principles and utilize the respective resources continuously and whenever you work on your `code`/`analyses`. However, this can of course become cumbersome with more complex `code`. So, ideally we could `automate` the `continuous` checks and quality control. But how?\n",
    "\n",
    "`Continuous integration` (`CI`), is basically that: run the `tests` you wrote previously automatically. In a wider sense, `CI` is the practice of integrating changes to a project made by individuals into a `main`, shared version frequently (usually multiple times per day). This is, because if you work collaboratively on `GitHub` (or `GitLab`) you probably work on your own `branch` or on a `feature branch` but eventually all work comes together in the `main` branch. The `main` branch is also the `branch` on which the \"software package\" or `code`/`analyses` in the end will be built and/or distributed from. So it is very important that everything coming together to the `main` branch is `clean` and `tested`.\n",
    "\n",
    "`CI` software is also typically used to identify any `conflicts` and `bugs` that are introduced by changes, so they are found and fixed early, minimizing the effort required to do so. Running `CI` regularly also saves humans from needing to do it manually. \n",
    "\n",
    "![CI GitLab](../static/CI_CD/CI_GitLab.png)"
   ]
  },
  {
   "cell_type": "markdown",
   "metadata": {},
   "source": [
    "## `CI` on `GitHub`\n",
    "\n",
    "`GitHub` is only one provider of many which let's you automate your `tests` whenever you `push` a new version to the `remote repository`. As `GitHub` is a collaborative `code` platform, it will do this for every `developer` when they push to the `main` branch by default (except if changed respectively). However, you can also use `CI` to test different `branches`. \n",
    "\n",
    "### `GitHub actions`\n",
    "\n",
    "`GitHub Actions` is a `continuous integration` and `continuous deployment` (`CI`/`CD`) service. It allows to automate `workflows` for `building`, `testing`, and `deploying code` directly from `GitHub repositories`. With `GitHub Actions`, you can create `workflows` that run `automatically` on `events` like `pushes`, `pull requests`, or scheduled times.\n",
    "\n",
    "#### Key concepts and aspects\n",
    "\n",
    "1. `Workflow`: A `YAML` file that defines automated processes (like `CI`/`CD`) for your `project`. `Workflows` are stored in the `.github/workflows/` directory within your `repository`. Each `workflow` can have multiple `jobs` and `steps`.\n",
    "\n",
    "2. `Job`: A set of steps that run on the same `virtual machine` (or `runner`). `Jobs` are executed in parallel by default but can also depend on each other. For example, a `CI workflow` might have separate `jobs` for `linting`, `testing`, and `deployment`.\n",
    "\n",
    "3. `Step`: A single `task` within a `job`. Each `step` can `run commands`, `install dependencies`, `set up environments`, or use `actions` (predefined reusable commands).\n",
    "\n",
    "4. `Runner`: A `virtual machine` hosted by `GitHub` (or self-hosted by you) that runs the `jobs`. `GitHub`-hosted `runners` come pre-configured with different `operating systems` and tools.\n",
    "\n",
    "5. `Events`: `Trigger points` that start a `workflow`. Common `events` include:\n",
    "\n",
    "    - `push`: Runs the `workflow` when `code` is `pushed` to a specified `branch`.\n",
    "    - `pull_request`: Runs the `workflow` when a `pull request` is created or updated.\n",
    "    - `schedule`: Runs the `workflow` at specified `intervals`, like a cron job.\n",
    "\n",
    "6. `Actions`: Predefined or custom `scripts` that perform `tasks` within a `step`. `GitHub` provides many `actions` (like `checkout` for `cloning` the `repository`) that you can reuse in your `workflows`.\n"
   ]
  },
  {
   "cell_type": "markdown",
   "metadata": {},
   "source": [
    "### Building workflows\n",
    "\n",
    "That all sounds a bit abstract, doesn't it? So let's see how these things work in action and create `workflows` for the things we did so far: `formatting` and `testing`.\n",
    "\n",
    "Importantly, we will create and store these `workflows` in the `example repository` we created at the end of the [code formatting session](https://peerherholz.github.io/Clean_Repro_Code_Neuromatch/materials/code_form_test_CI/code_formatting.html#summary-and-task-s). Thus, please be aware of and pay attention to the paths. \n",
    "\n",
    "At first, we need to create the above mentioned `directory` for our `workflows`. (NB: Please make sure to adapt the `path` to the `repository` based on your `machine`)."
   ]
  },
  {
   "cell_type": "code",
   "execution_count": 5,
   "metadata": {
    "vscode": {
     "languageId": "bat"
    }
   },
   "outputs": [],
   "source": [
    "import os\n",
    "\n",
    "os.makedirs(\"../../../../clean_reproducible_code_nm_example/.github/workflows\")"
   ]
  },
  {
   "cell_type": "markdown",
   "metadata": {},
   "source": [
    "With the `directory` ready, we can start `building` our `workflows`.\n",
    "\n",
    "#### Formatting and linting\n",
    "\n",
    "We will start with creating a workflow that automatically conducts the `formatting` and `linting` checks we conducted in the [code formatting session](https://peerherholz.github.io/Clean_Repro_Code_Neuromatch/materials/code_form_test_CI/code_formatting.html). \n",
    "\n",
    "Specifically, we want to run `autopep8` to fix `formatting` problems and then use `flake8` to check for any problems.\n",
    "\n",
    "Here's how that `workflow file` would look like:"
   ]
  },
  {
   "cell_type": "code",
   "execution_count": 10,
   "metadata": {
    "vscode": {
     "languageId": "bat"
    }
   },
   "outputs": [
    {
     "name": "stdout",
     "output_type": "stream",
     "text": [
      "Overwriting ../../../../clean_reproducible_code_nm_example/.github/workflows/formatting.yml\n"
     ]
    }
   ],
   "source": [
    "%%writefile ../../../../clean_reproducible_code_nm_example/.github/workflows/formatting.yml\n",
    "\n",
    "# The name of the workflow\n",
    "name: CI Formatting \n",
    "\n",
    "# The events/triggers when it should be run\n",
    "# Here we set that the workflow should run\n",
    "# whenever there was a push or PR to the \n",
    "# main branch\n",
    "on:\n",
    "  push:\n",
    "    branches: [main]\n",
    "  pull_request:\n",
    "    branches: [main]\n",
    "\n",
    "# We define the jobs that should be run\n",
    "# and the respective runner, ie virtual machine\n",
    "# Here, the workflow runs on the latest ubuntu\n",
    "jobs:\n",
    "  code-formatting-linting:\n",
    "    runs-on: ubuntu-latest\n",
    "\n",
    "    # Below we define all steps that should be\n",
    "    # run within the workflow\n",
    "    steps:\n",
    "      # Step 1: Checkout the repository\n",
    "      - name: Checkout code\n",
    "        uses: actions/checkout@v2\n",
    "\n",
    "      # Step 2: Set up Python environment\n",
    "      - name: Set up Python\n",
    "        uses: actions/setup-python@v2\n",
    "        with:\n",
    "          python-version: '3.10.6'  # Use the Python version compatible with your project\n",
    "\n",
    "      # Step 3: Install dependencies\n",
    "      - name: Install dependencies\n",
    "        run: |\n",
    "          python -m pip install --upgrade pip\n",
    "          pip install -r requirements.txt\n",
    "\n",
    "      # Step 4: Run autopep8 for code formatting\n",
    "      - name: Format code with autopep8\n",
    "        run: autopep8 --in-place --recursive .\n",
    "\n",
    "      # Step 5: Run linting with flake8\n",
    "      - name: Lint code with flake8\n",
    "        run: flake8 ."
   ]
  },
  {
   "cell_type": "markdown",
   "metadata": {},
   "source": [
    "While that's already it for our `formatting` and `linting` `workflow` file, we need to address one thing before we can run it.\n",
    "\n",
    "##### Defining the computational environment\n",
    "\n",
    "As mentioned before and as you can see above, we need to define a `computational environment` the `workflow` should `run` in and thus, the `code`/`analyses` should be `test`ed in. This should to some extent mimic your local setup but you should of course also think about some `parameterization`, ie using different `versions` of `python` and the respective `packages` you're using. \n",
    "\n",
    "That being said, we need to set the desired `python` `version`, as well as all `modules`/`packages` needed to run the `workflow`. To keep this simple, you should start with the `python` `version` you're using locally for the `code`/`analyses` and utilize a little `requirements.txt` file within which you keep track of the required `modules`/`packages` and their specific `versions`. \n",
    "While we already set the `python` `version` to `3.10.6`, the `version`, we used to create this workshop, you should always be aware of the `version` you're using.\n",
    "\n",
    "Regarding the `requirements.txt`, we can create and populate it like so:\n",
    "(NB: Please remember to change the `path` respectively.)"
   ]
  },
  {
   "cell_type": "code",
   "execution_count": 7,
   "metadata": {
    "vscode": {
     "languageId": "bat"
    }
   },
   "outputs": [
    {
     "name": "stdout",
     "output_type": "stream",
     "text": [
      "Writing ../../../../clean_reproducible_code_nm_example/requirements.txt\n"
     ]
    }
   ],
   "source": [
    "%%writefile ../../../../clean_reproducible_code_nm_example/requirements.txt\n",
    "\n",
    "flake8\n",
    "black\n",
    "autopep8\n",
    "numpy\n",
    "torch\n",
    "scikit-learn\n",
    "matplotlib\n",
    "seaborn\n",
    "pytest"
   ]
  },
  {
   "cell_type": "markdown",
   "metadata": {},
   "source": [
    "Now, we need to `add` both to our `repository`, `commit` the changes and `push` the files to `GitHub`.\n",
    "\n",
    "```bash\n",
    "git add requirements.txt\n",
    "git commit -m \"add requirements.txt\"\n",
    "git add .github/workflows/formatting.yml\n",
    "git commit -m \"add formatting workflow\"\n",
    "git push\n",
    "```"
   ]
  },
  {
   "cell_type": "markdown",
   "metadata": {},
   "source": [
    "If everything worked out, you should see both files in your `GitHub repository`.\n",
    "\n",
    "<img align=\"center\" src=\"https://raw.githubusercontent.com/PeerHerholz/Clean_Repro_Code_Neuromatch/refs/heads/main/workshop/materials/static/CI_CD/workflow_added.png\" alt=\"logo\" title=\"jupyter\" width=\"650\" height=\"400\" /> "
   ]
  },
  {
   "cell_type": "markdown",
   "metadata": {},
   "source": [
    "Not only that: our `formatting workflow` actually already ran (as we `push`ed to the `main branch`, ie the `workflow trigger`). However, it failed as indicated by the small red x. While this can seem frightening and stressful, it's actually very helpful, as we immediately know that we need to address some problems without having to evaluate things locally (you still should do that of course). \n",
    "\n",
    "If you want to know what went wrong, ie what the problem is, you can click on the small little x and then on `details` to see what caused the issue.\n",
    "\n",
    "What you will then see is a very comprehensive output log of all the things that happened when our `workflow` ran, ie all the `steps` and respective `commands`.\n",
    "\n",
    "<img align=\"center\" src=\"https://raw.githubusercontent.com/PeerHerholz/Clean_Repro_Code_Neuromatch/refs/heads/main/workshop/materials/static/CI_CD/workflow_error_overview.png\" alt=\"logo\" title=\"jupyter\" width=\"650\" height=\"400\" /> \n",
    "\n",
    "Based on that, it's clear that the `linting with flake8` `step` failed, ie parts of our `code` is not `formatted` correctly. By clicking on this `step`, we will get the respective outputs, similar to what we would we locally.\n",
    "\n",
    "<img align=\"center\" src=\"https://raw.githubusercontent.com/PeerHerholz/Clean_Repro_Code_Neuromatch/refs/heads/main/workshop/materials/static/CI_CD/workflow_error_detail.png\" alt=\"logo\" title=\"jupyter\" width=\"650\" height=\"400\" /> \n",
    "\n",
    "While there are a lot of `errors`, the cool thing is that we see our previous work on `code formatting` in action: only new files, ie the ones we created and added after our [code formatting session](https://peerherholz.github.io/Clean_Repro_Code_Neuromatch/materials/code_form_test_CI/code_formatting.html#summary-and-task-s) have `errors`, as we didn't check their `formatting` until now via the the `automated workflow`."
   ]
  },
  {
   "cell_type": "markdown",
   "metadata": {},
   "source": [
    "#### Testing\n",
    "\n",
    "Comparably, we can set up a `workflow` to run the `test` whenever there's a `push` and/or `PR` to the `main branch`. \n",
    "\n",
    "At first, we need to create a respective file:"
   ]
  },
  {
   "cell_type": "code",
   "execution_count": 7,
   "metadata": {
    "vscode": {
     "languageId": "bat"
    }
   },
   "outputs": [
    {
     "name": "stdout",
     "output_type": "stream",
     "text": [
      "Overwriting ../../../../clean_reproducible_code_nm_example/.github/workflows/testing.yml\n"
     ]
    }
   ],
   "source": [
    "%%writefile ../../../../clean_reproducible_code_nm_example/.github/workflows/testing.yml\n",
    "\n",
    "# The name of the workflow\n",
    "name: CI Testing \n",
    "\n",
    "# The events/triggers when it should be run\n",
    "# Here we set that the workflow should run\n",
    "# whenever there was a push or PR to the \n",
    "# main branch\n",
    "on:\n",
    "  push:\n",
    "    branches: [main]\n",
    "  pull_request:\n",
    "    branches: [main]\n",
    "\n",
    "# We define the jobs that should be run\n",
    "# and the respective runner, ie virtual machine\n",
    "# Here, the workflow runs on the latest ubuntu\n",
    "jobs:\n",
    "  code-testing:\n",
    "    runs-on: ubuntu-latest\n",
    "\n",
    "    # Below we define all steps that should be\n",
    "    # run within the workflow\n",
    "    steps:\n",
    "      # Step 1: Checkout the repository\n",
    "      - name: Checkout code\n",
    "        uses: actions/checkout@v2\n",
    "\n",
    "      # Step 2: Set up Python environment\n",
    "      - name: Set up Python\n",
    "        uses: actions/setup-python@v2\n",
    "        with:\n",
    "          python-version: '3.10.6'  # Use the Python version compatible with your project\n",
    "\n",
    "      # Step 3: Install dependencies\n",
    "      - name: Install dependencies\n",
    "        run: |\n",
    "          python -m pip install --upgrade pip\n",
    "          pip install -r requirements.txt\n",
    "\n",
    "      # Step 4: Run tests with pytest\n",
    "      - name: Run tests with pytest\n",
    "        run: pytest tests/"
   ]
  },
  {
   "cell_type": "markdown",
   "metadata": {},
   "source": [
    "and copy our `pytest.init` file over (NB: Please remember to adapt the `paths` based on your `machine`):"
   ]
  },
  {
   "cell_type": "code",
   "execution_count": 6,
   "metadata": {
    "vscode": {
     "languageId": "bat"
    }
   },
   "outputs": [],
   "source": [
    "cp pytest.ini ../../../../clean_reproducible_code_nm_example/"
   ]
  },
  {
   "cell_type": "markdown",
   "metadata": {},
   "source": [
    "Finally, we can `add`, `commit` and `push` everything:\n",
    "\n",
    "```bash\n",
    "git add pytest.ini\n",
    "git commit -m \"add pytest.ini\"\n",
    "git push\n",
    "git add .github/workflows/formatting.yml\n",
    "git commit -m \"add testing workflow\"\n",
    "git push\n",
    "```\n",
    "\n",
    "That's it, as the `computational environment` is the same as for the `formatting and linting`.\n",
    "\n",
    "The `testing workflow` should now be in your `GitHub repository` and already running. \n",
    "\n",
    "<img align=\"center\" src=\"https://raw.githubusercontent.com/PeerHerholz/Clean_Repro_Code_Neuromatch/refs/heads/main/workshop/materials/static/CI_CD/multiple_workflows.png\" alt=\"logo\" title=\"jupyter\" width=\"650\" height=\"400\" /> \n",
    "\n",
    "In more detail, you should now see both `workflows` and their respective outcome, which makes it easy to navigate and address potential problems.\n",
    "\n",
    "<img align=\"center\" src=\"https://raw.githubusercontent.com/PeerHerholz/Clean_Repro_Code_Neuromatch/refs/heads/main/workshop/materials/static/CI_CD/multiple_workflows_status.png\" alt=\"logo\" title=\"jupyter\" width=\"650\" height=\"400\" /> \n",
    "\n",
    "However, our `testing` `workflow` appears to pass and thus the `tests` verify the expected outcomes of our `code`/`analyses`.\n",
    "\n",
    "<img align=\"center\" src=\"https://raw.githubusercontent.com/PeerHerholz/Clean_Repro_Code_Neuromatch/refs/heads/main/workshop/materials/static/CI_CD/test_workflow_status.png\" alt=\"logo\" title=\"jupyter\" width=\"650\" height=\"400\" /> \n"
   ]
  },
  {
   "cell_type": "markdown",
   "metadata": {},
   "source": [
    "### General considerations\n",
    "\n",
    "There are two important things to consider when implementing `tests` and `workflows`, ie `CI` like this: `computational environments` and `workflow complexity`.\n",
    "\n",
    "#### Computational environments\n",
    "\n",
    "While we used the same `computational environment` for writing the `code`/`analyses` and `testing`, it's generally recommended to have separate `computational environments` for this to keep the `development` clean and straightforward, as e.g. not everything that's required for `testing` is needed to run the `code`/`analyses`.\n",
    "\n",
    "#### Workflow complexity\n",
    "\n",
    "Believe it or not: our example is somewhat simple as we have everything in one file and don't have dependencies across files, etc. . Thus, implementing the respective `workflows` was rather \"easy\". We could have put everything, ie the `formatting/linting` and `testing` in one longer `workflow` but we recommend to keep different `workflows` for different purposes. The specific implementation depends completely on your `code`/`analyses`/`project`."
   ]
  },
  {
   "cell_type": "markdown",
   "metadata": {},
   "source": [
    "## Conclusion:\n",
    "\n"
   ]
  },
  {
   "cell_type": "markdown",
   "metadata": {},
   "source": [
    "```{admonition} Task for y'all!\n",
    "\n",
    "\n",
    "\n",
    "You have 40 min.\n",
    "```"
   ]
  }
 ],
 "metadata": {
  "kernelspec": {
   "display_name": "course_name",
   "language": "python",
   "name": "python3"
  },
  "language_info": {
   "codemirror_mode": {
    "name": "ipython",
    "version": 3
   },
   "file_extension": ".py",
   "mimetype": "text/x-python",
   "name": "python",
   "nbconvert_exporter": "python",
   "pygments_lexer": "ipython3",
   "version": "3.10.6"
  }
 },
 "nbformat": 4,
 "nbformat_minor": 2
}
